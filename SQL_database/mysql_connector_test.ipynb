{
 "cells": [
  {
   "cell_type": "markdown",
   "metadata": {},
   "source": [
    "## 1. Connection"
   ]
  },
  {
   "cell_type": "code",
   "execution_count": 1,
   "metadata": {},
   "outputs": [],
   "source": [
    "import mysql.connector"
   ]
  },
  {
   "cell_type": "code",
   "execution_count": 2,
   "metadata": {},
   "outputs": [],
   "source": [
    "# host, user name and password\n",
    "mydb = mysql.connector.connect( \n",
    "    host=\"localhost\",\n",
    "    user=\"root\",\n",
    "    password=\"854661830\")"
   ]
  },
  {
   "cell_type": "code",
   "execution_count": 4,
   "metadata": {},
   "outputs": [
    {
     "name": "stdout",
     "output_type": "stream",
     "text": [
      "Connection Successfully\n"
     ]
    }
   ],
   "source": [
    "# success\n",
    "if(mydb):\n",
    "    print(\"Connection Successfully\")\n",
    "else:\n",
    "    print(\"Connection fail\")"
   ]
  },
  {
   "cell_type": "code",
   "execution_count": 5,
   "metadata": {},
   "outputs": [],
   "source": [
    "mydb.close()"
   ]
  },
  {
   "cell_type": "markdown",
   "metadata": {},
   "source": [
    "## 2. Creating our Database and Table"
   ]
  },
  {
   "cell_type": "code",
   "execution_count": 6,
   "metadata": {},
   "outputs": [],
   "source": [
    "mydb = mysql.connector.connect( \n",
    "    host=\"localhost\",\n",
    "    user=\"root\",\n",
    "    password=\"854661830\")"
   ]
  },
  {
   "cell_type": "code",
   "execution_count": 7,
   "metadata": {},
   "outputs": [],
   "source": [
    "mycursor = mydb.cursor()"
   ]
  },
  {
   "cell_type": "code",
   "execution_count": 8,
   "metadata": {},
   "outputs": [],
   "source": [
    "mycursor.execute(\"CREATE DATABASE test\")"
   ]
  },
  {
   "cell_type": "code",
   "execution_count": 9,
   "metadata": {},
   "outputs": [],
   "source": [
    "mycursor.execute(\"use test\")"
   ]
  },
  {
   "cell_type": "code",
   "execution_count": 10,
   "metadata": {},
   "outputs": [],
   "source": [
    "mycursor.execute(\n",
    "    \"CREATE TABLE classes (\\\n",
    "    id BIGINT NOT NULL AUTO_INCREMENT,\\\n",
    "    name VARCHAR(100) NOT NULL,\\\n",
    "    PRIMARY KEY (id))\")"
   ]
  },
  {
   "cell_type": "code",
   "execution_count": 11,
   "metadata": {},
   "outputs": [],
   "source": [
    "mycursor.execute(\n",
    "    \"CREATE TABLE students (\\\n",
    "    id BIGINT NOT NULL AUTO_INCREMENT,\\\n",
    "    class_id BIGINT NOT NULL,\\\n",
    "    name VARCHAR(100) NOT NULL,\\\n",
    "    gender VARCHAR(1) NOT NULL,\\\n",
    "    score INT NOT NULL,\\\n",
    "    PRIMARY KEY (id))\")"
   ]
  },
  {
   "cell_type": "markdown",
   "metadata": {},
   "source": [
    "## 3. Inserting, Updating, Deleting Data"
   ]
  },
  {
   "cell_type": "code",
   "execution_count": 13,
   "metadata": {},
   "outputs": [],
   "source": [
    "# silly way insert\n",
    "mycursor.execute(\"INSERT INTO classes(id, name) VALUES (1, '一班');\")\n",
    "mycursor.execute(\"INSERT INTO classes(id, name) VALUES (2, '二班');\")\n",
    "mycursor.execute(\"INSERT INTO classes(id, name) VALUES (3, '三班');\")\n",
    "mycursor.execute(\"INSERT INTO classes(id, name) VALUES (4, '四班');\")"
   ]
  },
  {
   "cell_type": "code",
   "execution_count": 14,
   "metadata": {},
   "outputs": [],
   "source": [
    "# remember to commit changes when inserting, updating and deleting rows, because you did change to the database!!!!\n",
    "mydb.commit()"
   ]
  },
  {
   "cell_type": "code",
   "execution_count": 18,
   "metadata": {},
   "outputs": [],
   "source": [
    "# more elegent way, %s is placeholder here, you can substitute any values you want!\n",
    "sql = \"INSERT INTO students (id, class_id, name, gender, score) VALUES (%s, %s, %s, %s, %s)\"\n",
    "val = [\n",
    "    (1, 1, '小明', 'M', 90),\n",
    "    (2, 1, '小红', 'F', 95),\n",
    "    (3, 1, '小军', 'M', 88),\n",
    "    (4, 1, '小米', 'F', 73),\n",
    "    (5, 2, '小白', 'F', 81),\n",
    "    (6, 2, '小兵', 'M', 55),\n",
    "    (7, 2, '小林', 'M', 85),\n",
    "    (8, 3, '小新', 'F', 91),\n",
    "    (9, 3, '小王', 'M', 89),\n",
    "    (10, 3, '小丽', 'F', 85)\n",
    "]\n",
    "\n",
    "mycursor.executemany(sql, val)\n",
    "\n",
    "# commit when inserting\n",
    "mydb.commit()"
   ]
  },
  {
   "cell_type": "code",
   "execution_count": 19,
   "metadata": {},
   "outputs": [],
   "source": [
    "# deleting\n",
    "\n",
    "sql = \"DELETE FROM students WHERE name = '小王'\"\n",
    "\n",
    "mycursor.execute(sql)\n",
    "\n",
    "# commit when deleting\n",
    "mydb.commit()"
   ]
  },
  {
   "cell_type": "code",
   "execution_count": 20,
   "metadata": {},
   "outputs": [],
   "source": [
    "# updating\n",
    "\n",
    "sql = \"UPDATE students SET score = '100' WHERE name = '小明'\"\n",
    "\n",
    "mycursor.execute(sql)\n",
    "\n",
    "# commit when updating\n",
    "mydb.commit()"
   ]
  },
  {
   "cell_type": "markdown",
   "metadata": {},
   "source": [
    "## 4.Selecting Data"
   ]
  },
  {
   "cell_type": "code",
   "execution_count": 21,
   "metadata": {},
   "outputs": [
    {
     "name": "stdout",
     "output_type": "stream",
     "text": [
      "(1, 1, '小明', 'M', 100)\n",
      "(2, 1, '小红', 'F', 95)\n",
      "(3, 1, '小军', 'M', 88)\n",
      "(4, 1, '小米', 'F', 73)\n",
      "(5, 2, '小白', 'F', 81)\n",
      "(6, 2, '小兵', 'M', 55)\n",
      "(7, 2, '小林', 'M', 85)\n",
      "(8, 3, '小新', 'F', 91)\n",
      "(10, 3, '小丽', 'F', 85)\n"
     ]
    }
   ],
   "source": [
    "mycursor.execute(\"SELECT * FROM students\")\n",
    "\n",
    "# fetchall return a list of tuples\n",
    "myresult = mycursor.fetchall()\n",
    "\n",
    "for row in myresult:\n",
    "    print(row)"
   ]
  },
  {
   "cell_type": "code",
   "execution_count": 23,
   "metadata": {},
   "outputs": [
    {
     "name": "stdout",
     "output_type": "stream",
     "text": [
      "('小明', 100)\n",
      "('小红', 95)\n",
      "('小军', 88)\n",
      "('小米', 73)\n",
      "('小白', 81)\n",
      "('小兵', 55)\n",
      "('小林', 85)\n",
      "('小新', 91)\n",
      "('小丽', 85)\n"
     ]
    }
   ],
   "source": [
    "sql = \"SELECT students.name AS 学生, \\\n",
    "    students.score AS 分数 \\\n",
    "    FROM students INNER JOIN classes ON students.class_id = classes.id\"\n",
    "\n",
    "mycursor.execute(sql)\n",
    "\n",
    "myresult = mycursor.fetchall()\n",
    "\n",
    "for row in myresult:\n",
    "    print(row)"
   ]
  },
  {
   "cell_type": "code",
   "execution_count": 24,
   "metadata": {},
   "outputs": [],
   "source": [
    "# close cursor and connection at last\n",
    "mycursor.close()\n",
    "mydb.close()"
   ]
  },
  {
   "cell_type": "markdown",
   "metadata": {},
   "source": [
    "Nice work!"
   ]
  }
 ],
 "metadata": {
  "kernelspec": {
   "display_name": "Python 3",
   "language": "python",
   "name": "python3"
  },
  "language_info": {
   "codemirror_mode": {
    "name": "ipython",
    "version": 3
   },
   "file_extension": ".py",
   "mimetype": "text/x-python",
   "name": "python",
   "nbconvert_exporter": "python",
   "pygments_lexer": "ipython3",
   "version": "3.7.7"
  }
 },
 "nbformat": 4,
 "nbformat_minor": 4
}
