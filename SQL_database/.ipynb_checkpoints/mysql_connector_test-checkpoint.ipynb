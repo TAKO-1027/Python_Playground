{
 "cells": [
  {
   "cell_type": "markdown",
   "metadata": {},
   "source": [
    "## 1. Connection"
   ]
  },
  {
   "cell_type": "code",
   "execution_count": null,
   "metadata": {},
   "outputs": [],
   "source": [
    "import mysql.connector"
   ]
  },
  {
   "cell_type": "code",
   "execution_count": null,
   "metadata": {},
   "outputs": [],
   "source": [
    "# host, user name and password\n",
    "mydb = mysql.connector.connect( \n",
    "    host=\"localhost\",\n",
    "    user=\"root\",\n",
    "    password=\"854661830\")"
   ]
  },
  {
   "cell_type": "code",
   "execution_count": null,
   "metadata": {},
   "outputs": [],
   "source": [
    "# success\n",
    "print(mydb)"
   ]
  },
  {
   "cell_type": "markdown",
   "metadata": {},
   "source": [
    "## 2. Creating our Database and Table"
   ]
  },
  {
   "cell_type": "code",
   "execution_count": null,
   "metadata": {},
   "outputs": [],
   "source": [
    "mycursor = mydb.cursor()"
   ]
  },
  {
   "cell_type": "code",
   "execution_count": null,
   "metadata": {},
   "outputs": [],
   "source": [
    "# copy from init-test-data.sql\n",
    "mycursor.execute(\"CREATE DATABASE IF NOT EXISTS test;\")"
   ]
  },
  {
   "cell_type": "code",
   "execution_count": null,
   "metadata": {},
   "outputs": [],
   "source": [
    "mycursor.execute(\"SHOW DATABASES\")\n",
    "for db in mycursor:\n",
    "    print(db)\n",
    "mycursor.close()\n",
    "mydb.close() "
   ]
  },
  {
   "cell_type": "code",
   "execution_count": null,
   "metadata": {},
   "outputs": [],
   "source": [
    "mydb = mysql.connector.connect( \n",
    "    host=\"localhost\",\n",
    "    user=\"root\",\n",
    "    password=\"854661830\",\n",
    "    database=\"test\")\n",
    "\n",
    "mycursor = mydb.cursor()"
   ]
  },
  {
   "cell_type": "code",
   "execution_count": null,
   "metadata": {},
   "outputs": [],
   "source": [
    "mycursor.execute(\n",
    "    \"DROP TABLE IF EXISTS classes;\\\n",
    "    DROP TABLE IF EXISTS students;\")"
   ]
  },
  {
   "cell_type": "code",
   "execution_count": null,
   "metadata": {},
   "outputs": [],
   "source": [
    "mycursor.execute(\"CREATE TABLE classes (\\\n",
    "    id BIGINT NOT NULL AUTO_INCREMENT,\\\n",
    "    name VARCHAR(100) NOT NULL,\\\n",
    "    PRIMARY KEY (id)\\\n",
    ") ENGINE=InnoDB DEFAULT CHARSET=utf8;\")"
   ]
  },
  {
   "cell_type": "code",
   "execution_count": null,
   "metadata": {},
   "outputs": [],
   "source": [
    "mycursor.execute(\"CREATE TABLE students (\\\n",
    "    id BIGINT NOT NULL AUTO_INCREMENT,\\\n",
    "    class_id BIGINT NOT NULL,\\\n",
    "    name VARCHAR(100) NOT NULL,\\\n",
    "    gender VARCHAR(1) NOT NULL,\\\n",
    "    score INT NOT NULL,\\\n",
    "    PRIMARY KEY (id)\\\n",
    ")ENGINE=InnoDB DEFAULT CHARSET=utf8;\")"
   ]
  },
  {
   "cell_type": "code",
   "execution_count": null,
   "metadata": {},
   "outputs": [],
   "source": [
    "mycursor.execute(\"SHOW TABLES\")\n",
    "for tb in mycursor:\n",
    "    print(tb)"
   ]
  },
  {
   "cell_type": "code",
   "execution_count": null,
   "metadata": {},
   "outputs": [],
   "source": [
    "# inser into class table regular way\n",
    "mycursor.execute(\n",
    "    \"\"\"\n",
    "    INSERT INTO classes(id, name) VALUES (1, 'class one');\n",
    "    INSERT INTO classes(id, name) VALUES (2, 'class two');\n",
    "    INSERT INTO classes(id, name) VALUES (3, 'class three');\n",
    "    INSERT INTO classes(id, name) VALUES (4, 'class four');\n",
    "    \"\"\")\n"
   ]
  },
  {
   "cell_type": "code",
   "execution_count": null,
   "metadata": {},
   "outputs": [],
   "source": [
    "# use placeholder\n",
    "# step1: sqlFormular with place holder\n",
    "# step2: "
   ]
  }
 ],
 "metadata": {
  "kernelspec": {
   "display_name": "Python 3",
   "language": "python",
   "name": "python3"
  },
  "language_info": {
   "codemirror_mode": {
    "name": "ipython",
    "version": 3
   },
   "file_extension": ".py",
   "mimetype": "text/x-python",
   "name": "python",
   "nbconvert_exporter": "python",
   "pygments_lexer": "ipython3",
   "version": "3.7.7"
  }
 },
 "nbformat": 4,
 "nbformat_minor": 4
}
